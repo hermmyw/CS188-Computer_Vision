{
  "nbformat": 4,
  "nbformat_minor": 0,
  "metadata": {
    "accelerator": "GPU",
    "colab": {
      "name": "Starter.ipynb",
      "provenance": [],
      "collapsed_sections": [],
      "toc_visible": true
    },
    "coursera": {
      "course_slug": "convolutional-neural-networks",
      "graded_item_id": "OEpi5",
      "launcher_item_id": "jK9EQ"
    },
    "kernelspec": {
      "display_name": "Python 3",
      "language": "python",
      "name": "python3"
    },
    "language_info": {
      "codemirror_mode": {
        "name": "ipython",
        "version": 3
      },
      "file_extension": ".py",
      "mimetype": "text/x-python",
      "name": "python",
      "nbconvert_exporter": "python",
      "pygments_lexer": "ipython3",
      "version": "3.5.2"
    }
  },
  "cells": [
    {
      "cell_type": "markdown",
      "metadata": {
        "colab_type": "text",
        "id": "ci7JfrFM3k4I"
      },
      "source": [
        "# Import the Required Dependencies \n"
      ]
    },
    {
      "cell_type": "code",
      "metadata": {
        "colab_type": "code",
        "id": "6LD13_jJ3k4J",
        "colab": {
          "base_uri": "https://localhost:8080/",
          "height": 80
        },
        "outputId": "2b14503b-eea1-4a2a-b6ab-b6f74abdcc0f"
      },
      "source": [
        "import numpy as np\n",
        "from keras import layers\n",
        "from keras.preprocessing.image import ImageDataGenerator\n",
        "from keras.layers import Input, Add, Dense, Activation, ZeroPadding2D, BatchNormalization, Flatten, Conv2D, AveragePooling2D, MaxPooling2D, GlobalMaxPooling2D,Dropout\n",
        "from keras.models import Model, load_model\n",
        "from keras.preprocessing import image\n",
        "from IPython.display import SVG\n",
        "from keras.utils.vis_utils import model_to_dot\n",
        "from keras.utils import plot_model\n",
        "from keras.initializers import glorot_uniform\n",
        "import scipy.misc\n",
        "from matplotlib.pyplot import imshow\n",
        "%matplotlib inline\n",
        "import tensorflow as tf\n",
        "import keras.backend as K\n",
        "from keras.utils import layer_utils\n",
        "from keras.utils.data_utils import get_file\n",
        "from keras.applications.imagenet_utils import preprocess_input\n",
        "import pydot\n",
        "import keras \n",
        "import matplotlib.pyplot as plt\n",
        "from keras.datasets import cifar10\n",
        "from keras.regularizers import l1\n",
        "import os\n",
        "import time\n",
        "from time import time\n",
        "\n",
        "def plot_learningCurve(history,num_epoch):\n",
        "  # Plot training & validation accuracy values\n",
        "  epoch_range = np.arange(1,num_epoch+1)\n",
        "  plt.plot(epoch_range, history.history['acc'])\n",
        "  plt.plot(epoch_range, history.history['val_acc'])\n",
        "  plt.title('Model accuracy')\n",
        "  plt.ylabel('Accuracy')\n",
        "  plt.xlabel('Epoch')\n",
        "  plt.legend(['Train', 'Val'], loc='upper left')\n",
        "  plt.show()\n",
        "\n",
        "  # Plot training & validation loss values\n",
        "  plt.plot(epoch_range, history.history['loss'])\n",
        "  plt.plot(epoch_range, history.history['val_loss'])\n",
        "  plt.title('Model loss')\n",
        "  plt.ylabel('Loss')\n",
        "  plt.xlabel('Epoch')\n",
        "  plt.legend(['Train', 'Val'], loc='upper left')\n",
        "  plt.show()\n",
        "\n",
        "save_dir='/model/resnet'"
      ],
      "execution_count": 1,
      "outputs": [
        {
          "output_type": "stream",
          "text": [
            "Using TensorFlow backend.\n"
          ],
          "name": "stderr"
        },
        {
          "output_type": "display_data",
          "data": {
            "text/html": [
              "<p style=\"color: red;\">\n",
              "The default version of TensorFlow in Colab will soon switch to TensorFlow 2.x.<br>\n",
              "We recommend you <a href=\"https://www.tensorflow.org/guide/migrate\" target=\"_blank\">upgrade</a> now \n",
              "or ensure your notebook will continue to use TensorFlow 1.x via the <code>%tensorflow_version 1.x</code> magic:\n",
              "<a href=\"https://colab.research.google.com/notebooks/tensorflow_version.ipynb\" target=\"_blank\">more info</a>.</p>\n"
            ],
            "text/plain": [
              "<IPython.core.display.HTML object>"
            ]
          },
          "metadata": {
            "tags": []
          }
        }
      ]
    },
    {
      "cell_type": "markdown",
      "metadata": {
        "colab_type": "text",
        "id": "GaqVr_T03XrW"
      },
      "source": [
        "## Note on Conv2D\n",
        "\n",
        "In order to implement the convolutional layers, we use the Keras implementation of Conv2D. However, in all cases, you are required to use a specific kernel initializer so that the results are predictable ( random initialization of convolutional kernel would result in unpredictable ).\n",
        "\n",
        "As such, please use the following Conv2D: \n",
        "\n",
        "Conv2D(filters=f, kernel_size=(k, k), strides=(s, s), padding=pad_type, kernel_initializer=keras.initializers.glorot_uniform(seed=0))(X)\n",
        "\n",
        "In which f,k and s denote the size of filter,kernel and stride. Pad_type denoted the padding type which can be either \"same\" or \"valid\". "
      ]
    },
    {
      "cell_type": "markdown",
      "metadata": {
        "colab_type": "text",
        "id": "7eA51suF12fn"
      },
      "source": [
        "##Implementing the Identity Block \n",
        "\n",
        "We discussed the identity block in the homework description. Here we provide the details of the components that you should use to implement it. \n",
        "\n",
        "The following represents the components: \n",
        "\n",
        "First component of main path: \n",
        "- The first CONV2D has $F_1$ filters of shape (1,1) and a stride of (1,1). Its padding is \"valid\". Use 0 as the seed for the random initialization. \n",
        "- The first BatchNorm is normalizing the channels axis. No particular argument needs to be passed.\n",
        "- Then apply the ReLU activation function. This has no hyperparameters. \n",
        "\n",
        "Second component of main path:\n",
        "- The second CONV2D has $F_2$ filters of shape $(f,f)$ and a stride of (1,1). Its padding is \"same\". Use 0 as the seed for the random initialization. \n",
        "- The second BatchNorm is normalizing the channels axis. No particular argument needs to be passed.\n",
        "- Then apply the ReLU activation function. This has no hyperparameters\n",
        "\n",
        "Third component of main path:\n",
        "- The third CONV2D has $F_3$ filters of shape (1,1) and a stride of (1,1). Its padding is \"valid\". Use 0 as the seed for the random initialization. \n",
        "- The third BatchNorm is normalizing the channels axis. No particular argument needs to be passed. \n",
        "- Then apply the ReLU activation function. This has no hyperparameters\n",
        "\n",
        "Final step: \n",
        "- The shortcut and the input are added together.\n",
        "- Then apply the ReLU activation function. This has no hyperparameters\n",
        "\n",
        "Useful links:\n",
        "\n",
        "- [Conv](https://keras.io/layers/convolutional/#conv2d)\n",
        "- [BatchNorm](https://keras.io/layers/normalization/#batchnormalization)\n",
        "- For the activation, use:  `Activation('relu')(X)`\n",
        "- [Addition](https://keras.io/layers/merge/#add)\n",
        "\n"
      ]
    },
    {
      "cell_type": "code",
      "metadata": {
        "colab_type": "code",
        "id": "kJc-hKMN3k4P",
        "colab": {}
      },
      "source": [
        "def identity_block(X, f, filters):\n",
        "    \"\"\"\n",
        "    Implementation of the identity block as defined in Figure 4 of homework\n",
        "\n",
        "    Arguments:\n",
        "    X -- input tensor of shape (m, n_H_prev, n_W_prev, n_C_prev)\n",
        "    f -- integer, specifying the shape of the middle CONV's window for the main path\n",
        "    filters -- python list of integers, defining the number of filters in the CONV layers of the main path (e.g. [2,4,16])\n",
        "    block -- string/character, used to name the layers, depending on their position in the network\n",
        "\n",
        "    Returns:\n",
        "    X -- output of the identity block, tensor of shape (n_H, n_W, n_C)\n",
        "    \"\"\"\n",
        "    # Retrieve Filters\n",
        "    f_1 = filters[0]\n",
        "    f_2 = filters[1]\n",
        "    f_3 = filters[2]\n",
        "\n",
        "    # Save the input value. You'll need this later to add back to the main path. \n",
        "    input_X = X\n",
        "\n",
        "    # First component of main path\n",
        "    X = Conv2D(filters=f_1, \n",
        "              kernel_size=(1, 1), \n",
        "              strides=(1, 1), \n",
        "              padding=\"valid\", \n",
        "              kernel_initializer=keras.initializers.glorot_uniform(seed=0))(X)\n",
        "    X = BatchNormalization()(X)\n",
        "    X = Activation('relu')(X)\n",
        "\n",
        "    # Second component of main path (≈3 lines)\n",
        "    X = Conv2D(filters=f_2, \n",
        "              kernel_size=(f, f), \n",
        "              strides=(1, 1), \n",
        "              padding=\"same\", \n",
        "              kernel_initializer=keras.initializers.glorot_uniform(seed=0))(X)\n",
        "    X = BatchNormalization()(X)\n",
        "    X = Activation('relu')(X)\n",
        "\n",
        "    # Third component of main path (≈2 lines)\n",
        "    X = Conv2D(filters=f_3, \n",
        "              kernel_size=(1, 1), \n",
        "              strides=(1, 1), \n",
        "              padding=\"valid\", \n",
        "              kernel_initializer=keras.initializers.glorot_uniform(seed=0))(X)\n",
        "    X = BatchNormalization()(X)\n",
        "    \n",
        "    # Final step: Add shortcut value to main path, and pass it through a RELU activation (≈2 lines)\n",
        "    X = Add()([X, input_X])\n",
        "    X = Activation('relu')(X)\n",
        "\n",
        "    return X"
      ],
      "execution_count": 0,
      "outputs": []
    },
    {
      "cell_type": "markdown",
      "metadata": {
        "colab_type": "text",
        "id": "8jSnfAHX8cUH"
      },
      "source": [
        "##Testing the Identity Block\n",
        "\n",
        "Simply run the code in the following block and report the result that is generated in your homework report. "
      ]
    },
    {
      "cell_type": "code",
      "metadata": {
        "colab_type": "code",
        "id": "ikDdEFha3k4R",
        "colab": {
          "base_uri": "https://localhost:8080/",
          "height": 51
        },
        "outputId": "9b202efb-ac67-451a-81a9-46f7978c2eb1"
      },
      "source": [
        "tf.reset_default_graph()\n",
        "\n",
        "with tf.Session() as test:\n",
        "    np.random.seed(1)\n",
        "    A_prev = tf.placeholder(\"float\", [4, 4, 4, 8])\n",
        "    X = np.random.randn(4,4,4,8)\n",
        "    A = identity_block(A_prev, f=2, filters=[2, 4, 8])\n",
        "    test.run(tf.global_variables_initializer())\n",
        "    res = test.run([A], feed_dict={A_prev: X})\n",
        "    print('Result = {}'.format(res[0][1][1][0]))\n"
      ],
      "execution_count": 29,
      "outputs": [
        {
          "output_type": "stream",
          "text": [
            "Result = [0.8278597  0.10646105 2.1855583  0.56990707 0.         1.6353136\n",
            " 1.454914   1.1312441 ]\n"
          ],
          "name": "stdout"
        }
      ]
    },
    {
      "cell_type": "markdown",
      "metadata": {
        "colab_type": "text",
        "id": "qQbD_ipW-06u"
      },
      "source": [
        "##Implementing the Convolutional Block \n",
        "\n",
        "We discussed the convolutional block in the homework description. Here we provide the details of the components that you should use to implement it. \n",
        "\n",
        "The following represents the components: \n",
        "\n",
        "First component of main path:\n",
        "- The first CONV2D has $F_1$ filters of shape (1,1) and a stride of (s,s). Its padding is \"valid\". \n",
        "- The first BatchNorm is normalizing the channels axis. No particular argument needs to be passed.\n",
        "- Then apply the ReLU activation function. This has no hyperparameters. \n",
        "\n",
        "Second component of main path:\n",
        "- The second CONV2D has $F_2$ filters of (f,f) and a stride of (1,1). Its padding is \"same\".\n",
        "- The second BatchNorm is normalizing the channels axis. No particular argument needs to be passed.\n",
        "- Then apply the ReLU activation function. This has no hyperparameters. \n",
        "\n",
        "Third component of main path:\n",
        "- The third CONV2D has $F_3$ filters of (1,1) and a stride of (1,1). Its padding is \"valid\".\n",
        "- The third BatchNorm is normalizing the channels axis. No particular argument needs to be passed. Note that there is no ReLU activation function in this component. \n",
        "\n",
        "Shortcut path:\n",
        "- The CONV2D has $F_3$ filters of shape (1,1) and a stride of (s,s). Its padding is \"valid\".\n",
        "- The BatchNorm is normalizing the channels axis. BatchNorm is normalizing the channels axis. No particular argument needs to be passed\n",
        "\n",
        "Final step: \n",
        "- The shortcut and the main path values are added together.\n",
        "- Then apply the ReLU activation function. This has no name and no hyperparameters. \n",
        "\n",
        "Useful links:\n",
        "\n",
        "- [Conv](https://keras.io/layers/convolutional/#conv2d)\n",
        "- [BatchNorm](https://keras.io/layers/normalization/#batchnormalization)\n",
        "- For the activation, use:  `Activation('relu')(X)`\n",
        "- [Addition](https://keras.io/layers/merge/#add)"
      ]
    },
    {
      "cell_type": "code",
      "metadata": {
        "colab_type": "code",
        "id": "WTTaFuRa3k4V",
        "colab": {}
      },
      "source": [
        "def convolutional_block(X, f, filters,stride=2):\n",
        "    \"\"\"\n",
        "    Implementation of the convolutional block as defined in Figure 5 of homework\n",
        "\n",
        "    Arguments:\n",
        "    X -- input tensor of shape (m, n_H_prev, n_W_prev, n_C_prev)\n",
        "    f -- integer, specifying the shape of the middle CONV's window for the main path\n",
        "    filters -- python list of integers, defining the number of filters in the CONV layers of the main path (e.g. [2,4,16])\n",
        "    stride -- Integer, specifying the stride to be used\n",
        "\n",
        "    Returns:\n",
        "    X -- output of the convolutional block, tensor of shape (n_H, n_W, n_C)\n",
        "    \"\"\"\n",
        "\n",
        "    # Retrieve Filters\n",
        "    f_1 = filters[0]\n",
        "    f_2 = filters[1]\n",
        "    f_3 = filters[2]\n",
        "\n",
        "    # Save the input value\n",
        "    input_X = X\n",
        "\n",
        "    # First component of main path \n",
        "    X = Conv2D(filters=f_1, \n",
        "              kernel_size=(1, 1), \n",
        "              strides=(stride, stride), \n",
        "              padding=\"valid\", \n",
        "              kernel_initializer=keras.initializers.glorot_uniform(seed=0))(X)\n",
        "    X = BatchNormalization()(X)\n",
        "    X = Activation('relu')(X)\n",
        "\n",
        "    # Second component of main path (≈3 lines)\n",
        "    X = Conv2D(filters=f_2, \n",
        "              kernel_size=(f, f), \n",
        "              strides=(1, 1), \n",
        "              padding=\"same\", \n",
        "              kernel_initializer=keras.initializers.glorot_uniform(seed=0))(X)\n",
        "    X = BatchNormalization()(X)\n",
        "    X = Activation('relu')(X)\n",
        "\n",
        "    # Third component of main path (≈2 lines)\n",
        "    X = Conv2D(filters=f_3, \n",
        "              kernel_size=(1, 1), \n",
        "              strides=(1, 1), \n",
        "              padding=\"valid\", \n",
        "              kernel_initializer=keras.initializers.glorot_uniform(seed=0))(X)\n",
        "    X = BatchNormalization()(X)\n",
        "\n",
        "    ##### SHORTCUT PATH #### (≈2 lines)\n",
        "    input_X = Conv2D(filters=f_3, \n",
        "              kernel_size=(1, 1), \n",
        "              strides=(stride, stride), \n",
        "              padding=\"valid\", \n",
        "              kernel_initializer=keras.initializers.glorot_uniform(seed=0))(input_X)\n",
        "    input_X = BatchNormalization()(input_X)\n",
        "\n",
        "    # Final step: Add shortcut value to main path, and pass it through a RELU activation (≈2 lines)\n",
        "    X = Add()([X, input_X])\n",
        "    X = Activation('relu')(X)\n",
        "\n",
        "    return X\n"
      ],
      "execution_count": 0,
      "outputs": []
    },
    {
      "cell_type": "markdown",
      "metadata": {
        "colab_type": "text",
        "id": "oGITZoKUDBTs"
      },
      "source": [
        "##Testing the Convolutional Block\n",
        "\n",
        "Simply run the code in the following block and report the result that is generated in your homework report. "
      ]
    },
    {
      "cell_type": "code",
      "metadata": {
        "colab_type": "code",
        "id": "hQQAH8UM3k4X",
        "colab": {
          "base_uri": "https://localhost:8080/",
          "height": 51
        },
        "outputId": "de7de48e-e0a2-477a-b0f7-fc243e1929b8"
      },
      "source": [
        "tf.reset_default_graph()\n",
        "\n",
        "with tf.Session() as test:\n",
        "    np.random.seed(1)\n",
        "    A_prev = tf.placeholder(\"float\", [4, 4, 4, 8])\n",
        "    X = np.random.randn(4,4,4,8)\n",
        "    A = convolutional_block(A_prev, f=2, filters=[2, 4, 8])\n",
        "    test.run(tf.global_variables_initializer())\n",
        "    res = test.run([A], feed_dict={A_prev: X})\n",
        "    print('Result = {}'.format(res[0][1][1][0]))"
      ],
      "execution_count": 35,
      "outputs": [
        {
          "output_type": "stream",
          "text": [
            "Result = [0.        1.3407363 1.4184607 0.        0.        2.2878466 0.8547394\n",
            " 0.5266884]\n"
          ],
          "name": "stdout"
        }
      ]
    },
    {
      "cell_type": "markdown",
      "metadata": {
        "colab_type": "text",
        "id": "FjLuQmAOFAgm"
      },
      "source": [
        "##Implementing ResNet \n",
        "\n",
        "We discussed the ResNet architecture in the homework description ( see Figure 6 ). Here we provide further details you should use to implement it.\n",
        "The following represents ResNet components: \n",
        "\n",
        "- Zero-padding pads the input with a pad of (3,3)\n",
        "- Stage 1:\n",
        "    - The 2D Convolution has 64 filters of shape (7,7) and uses a stride of (2,2).\n",
        "    - BatchNorm is applied to the channels axis of the input.\n",
        "    - MaxPooling uses a (3,3) window and a (2,2) stride.\n",
        "- Stage 2:\n",
        "    - The convolutional block uses three set of filters of size [64,64,256], \"f\" is 3, \"s\" is 1.\n",
        "    - The 2 identity blocks use three set of filters of size [64,64,256], \"f\" is 3.\n",
        "- Stage 3:\n",
        "    - The convolutional block uses three set of filters of size [128,128,512], \"f\" is 3, \"s\" is 2.\n",
        "    - The 3 identity blocks use three set of filters of size [128,128,512], \"f\" is 3.\n",
        "- Stage 4:\n",
        "    - The convolutional block uses three set of filters of size [256, 256, 1024], \"f\" is 3, \"s\" is 2.\n",
        "    - The 5 identity blocks use three set of filters of size [256, 256, 1024], \"f\" is 3.\n",
        "- Stage 5:\n",
        "    - The convolutional block uses three set of filters of size [512, 512, 2048], \"f\" is 3, \"s\" is 2.\n",
        "    - The 2 identity blocks use three set of filters of size [256, 256, 2048], \"f\" is 3.\n",
        "- The 2D Average Pooling uses a window of shape (2,2).\n",
        "- The flatten doesn't have any hyperparameters.\n",
        "- The Fully Connected (Dense) layer reduces its input to the number of classes using a softmax activation.\n",
        "\n",
        "Useful links:\n",
        "\n",
        "- [Conv](https://keras.io/layers/convolutional/#conv2d)\n",
        "- [BatchNorm](https://keras.io/layers/normalization/#batchnormalization)\n",
        "- For the activation, use:  `Activation('relu')(X)`\n",
        "- [Addition](https://keras.io/layers/merge/#add)\n",
        "- [Average pooling](https://keras.io/layers/pooling/#averagepooling2d)\n",
        "- [Max pooling](https://keras.io/layers/pooling/#maxpooling2d)\n",
        "- [Zero padding](https://keras.io/layers/convolutional/#zeropadding2d)\n",
        "\n"
      ]
    },
    {
      "cell_type": "code",
      "metadata": {
        "colab_type": "code",
        "id": "ZHfdszLr3k4b",
        "colab": {}
      },
      "source": [
        "def ResNet(input_shape=(32, 32, 3), classes=10):\n",
        "    \"\"\"\n",
        "    Implementation of the popular ResNet50 the following architecture:\n",
        "    CONV2D -> BATCHNORM -> RELU -> MAXPOOL -> CONVBLOCK -> IDBLOCK*2 -> CONVBLOCK -> IDBLOCK*3\n",
        "    -> CONVBLOCK -> IDBLOCK*5 -> CONVBLOCK -> IDBLOCK*2 -> AVGPOOL -> TOPLAYER\n",
        "\n",
        "    Arguments:\n",
        "    input_shape -- shape of the images of the dataset\n",
        "    classes -- integer, number of classes\n",
        "\n",
        "    Returns:\n",
        "    model -- a Model() instance in Keras\n",
        "    \"\"\"\n",
        "\n",
        "    # Define the input as a tensor with shape input_shape\n",
        "    X_input = Input(input_shape)\n",
        "\n",
        "    # Zero-Padding\n",
        "    X = ZeroPadding2D(padding=(3, 3), data_format=None)(X_input)\n",
        "\n",
        "    # Stage 1\n",
        "    X = Conv2D(filters=64, \n",
        "              kernel_size=(7, 7), \n",
        "              strides=(2, 2), \n",
        "              padding=\"valid\", \n",
        "              kernel_initializer=keras.initializers.glorot_uniform(seed=0))(X)\n",
        "    X = BatchNormalization()(X)\n",
        "    X = Activation('relu')(X)\n",
        "    X = MaxPooling2D(pool_size=(3, 3), \n",
        "                           strides=(2, 2), \n",
        "                           padding='valid', \n",
        "                           data_format=None)(X)\n",
        "    \n",
        "    # Stage 2\n",
        "    X = convolutional_block(X, 3, [64, 64, 256], 1)\n",
        "    X = identity_block(X, 3, [64, 64, 256])\n",
        "    X = identity_block(X, 3, [64, 64, 256])\n",
        "\n",
        "    # Stage 3 (≈4 lines)\n",
        "    X = convolutional_block(X, 3, [128, 128, 512], 2)\n",
        "    X = identity_block(X, 3, [128, 128, 512])\n",
        "    X = identity_block(X, 3, [128, 128, 512])\n",
        "    X = identity_block(X, 3, [128, 128, 512])\n",
        "    \n",
        "\n",
        "    # Stage 4 (≈6 lines)\n",
        "    X = convolutional_block(X, 3, [256, 256, 1024], 2)\n",
        "    X = identity_block(X, 3, [256, 256, 1024])\n",
        "    X = identity_block(X, 3, [256, 256, 1024])\n",
        "    X = identity_block(X, 3, [256, 256, 1024])\n",
        "    X = identity_block(X, 3, [256, 256, 1024])\n",
        "    X = identity_block(X, 3, [256, 256, 1024])\n",
        "    \n",
        "    # Stage 5 (≈3 lines)\n",
        "    X = convolutional_block(X, 3, [512, 512, 2048], 2)\n",
        "    X = identity_block(X, 3, [512, 512, 2048])\n",
        "    X = identity_block(X, 3, [512, 512, 2048])\n",
        "    \n",
        "\n",
        "    # AVGPOOL (≈1 line)\n",
        "    X = AveragePooling2D(pool_size=(2, 2), \n",
        "                               strides=None, \n",
        "                               padding=\"same\", \n",
        "                               data_format=None)(X)\n",
        "\n",
        "    # output layer\n",
        "    X = Flatten()(X)\n",
        "    X = Dense(units=classes, activation='softmax')(X)\n",
        "\n",
        "    # Create model\n",
        "    model = Model(inputs=X_input, outputs=X, name='ResNe')\n",
        "\n",
        "    return model\n",
        "\n",
        "model = ResNet(input_shape=(32, 32, 3), classes=10)"
      ],
      "execution_count": 0,
      "outputs": []
    },
    {
      "cell_type": "markdown",
      "metadata": {
        "colab_type": "text",
        "id": "Hi4WfiGnI6e1"
      },
      "source": [
        "##CIFAR10 Dataset\n",
        "\n",
        "Simply run the following code block to download and preprocess the CIFAR10 dataset. We also use online data-augmentation to improve the results. "
      ]
    },
    {
      "cell_type": "code",
      "metadata": {
        "colab_type": "code",
        "id": "dgUU9chm3k4f",
        "colab": {
          "base_uri": "https://localhost:8080/",
          "height": 102
        },
        "outputId": "7e3fca62-b5c0-4538-c4ba-e1ef467f5c6c"
      },
      "source": [
        "(x_train, y_train), (x_test, y_test) = cifar10.load_data()\n",
        "print('x_train shape:', x_train.shape)\n",
        "print(x_train.shape[0], 'train samples')\n",
        "print(x_test.shape[0], 'test samples')\n",
        "num_classes = 10\n",
        "# Convert class vectors to binary class matrices.\n",
        "y_train = keras.utils.to_categorical(y_train, num_classes)\n",
        "y_test = keras.utils.to_categorical(y_test, num_classes)\n",
        "x_train = x_train.astype('float32')\n",
        "x_test = x_test.astype('float32')\n",
        "x_train /= 255\n",
        "x_test /= 255\n",
        "\n",
        "datagen = ImageDataGenerator(\n",
        "        featurewise_center=False,  # set input mean to 0 over the dataset\n",
        "        samplewise_center=False,  # set each sample mean to 0\n",
        "        featurewise_std_normalization=False,  # divide inputs by std of the dataset\n",
        "        samplewise_std_normalization=False,  # divide each input by its std\n",
        "        zca_whitening=False,  # apply ZCA whitening\n",
        "        zca_epsilon=1e-06,  # epsilon for ZCA whitening\n",
        "        rotation_range=0,  # randomly rotate images in the range (degrees, 0 to 180)\n",
        "        # randomly shift images horizontally (fraction of total width)\n",
        "        width_shift_range=0.1,\n",
        "        # randomly shift images vertically (fraction of total height)\n",
        "        height_shift_range=0.1,\n",
        "        shear_range=0.,  # set range for random shear\n",
        "        zoom_range=0.,  # set range for random zoom\n",
        "        channel_shift_range=0.,  # set range for random channel shifts\n",
        "        # set mode for filling points outside the input boundaries\n",
        "        fill_mode='nearest',\n",
        "        cval=0.,  # value used for fill_mode = \"constant\"\n",
        "        horizontal_flip=True,  # randomly flip images\n",
        "        vertical_flip=True,  # randomly flip images\n",
        "        # set rescaling factor (applied before any other transformation)\n",
        "        rescale=None,\n",
        "        # set function that will be applied on each input\n",
        "        preprocessing_function=None,\n",
        "        # image data format, either \"channels_first\" or \"channels_last\"\n",
        "        data_format=None,\n",
        "        # fraction of images reserved for validation (strictly between 0 and 1)\n",
        "        validation_split=0.0)\n",
        "\n",
        "datagen.fit(x_train)\n"
      ],
      "execution_count": 47,
      "outputs": [
        {
          "output_type": "stream",
          "text": [
            "Downloading data from https://www.cs.toronto.edu/~kriz/cifar-10-python.tar.gz\n",
            "170500096/170498071 [==============================] - 6s 0us/step\n",
            "x_train shape: (50000, 32, 32, 3)\n",
            "50000 train samples\n",
            "10000 test samples\n"
          ],
          "name": "stdout"
        }
      ]
    },
    {
      "cell_type": "markdown",
      "metadata": {
        "colab_type": "text",
        "id": "0N36L7P9J1UA"
      },
      "source": [
        "##Compile the Model\n",
        "\n",
        "The following block sets the required hyper-parameters, complies the model starts the process of training and at the end saves the trained model. \n",
        "\n",
        "You can use your own hyper-parameters, but these have been tested to work properly.\n",
        "\n",
        "Note that we require you to report the accuracy for models that have been trained for 50 epochs. "
      ]
    },
    {
      "cell_type": "code",
      "metadata": {
        "colab_type": "code",
        "id": "yf9YlI_LWjfW",
        "colab": {
          "base_uri": "https://localhost:8080/",
          "height": 1000
        },
        "outputId": "80f0e46e-9b71-4406-b358-37b321c1ae24"
      },
      "source": [
        "batch_size = 2048\n",
        "epochs = 50\n",
        "data_augmentation = True\n",
        "learning_rate=0.001\n",
        "\n",
        "opt = keras.optimizers.adam(lr=learning_rate, decay=1e-6)\n",
        "model.compile(loss='categorical_crossentropy',optimizer=opt,metrics=['accuracy'])\n",
        "t1=time()\n",
        "history =model.fit_generator(datagen.flow(x_train, y_train,\n",
        "                    batch_size=batch_size),\n",
        "                    epochs=epochs,\n",
        "                    validation_data=(x_test, y_test),\n",
        "                    workers=4)\n",
        "print('Training time is {} s'.format(time()-t1))\n",
        "if not os.path.isdir(save_dir):\n",
        "    os.makedirs(save_dir)\n",
        "\n",
        "model_name='resnet'\n",
        "model_path = os.path.join(save_dir, model_name)\n",
        "model.save(model_path)\n",
        "print('Saved trained model at %s ' % model_path)"
      ],
      "execution_count": 48,
      "outputs": [
        {
          "output_type": "stream",
          "text": [
            "WARNING:tensorflow:From /usr/local/lib/python3.6/dist-packages/keras/optimizers.py:793: The name tf.train.Optimizer is deprecated. Please use tf.compat.v1.train.Optimizer instead.\n",
            "\n",
            "WARNING:tensorflow:From /usr/local/lib/python3.6/dist-packages/keras/backend/tensorflow_backend.py:3576: The name tf.log is deprecated. Please use tf.math.log instead.\n",
            "\n",
            "WARNING:tensorflow:From /usr/local/lib/python3.6/dist-packages/tensorflow_core/python/ops/math_grad.py:1424: where (from tensorflow.python.ops.array_ops) is deprecated and will be removed in a future version.\n",
            "Instructions for updating:\n",
            "Use tf.where in 2.0, which has the same broadcast rule as np.where\n",
            "WARNING:tensorflow:From /usr/local/lib/python3.6/dist-packages/keras/backend/tensorflow_backend.py:1033: The name tf.assign_add is deprecated. Please use tf.compat.v1.assign_add instead.\n",
            "\n",
            "WARNING:tensorflow:From /usr/local/lib/python3.6/dist-packages/keras/backend/tensorflow_backend.py:1020: The name tf.assign is deprecated. Please use tf.compat.v1.assign instead.\n",
            "\n",
            "Epoch 1/50\n",
            "WARNING:tensorflow:From /usr/local/lib/python3.6/dist-packages/keras/backend/tensorflow_backend.py:197: The name tf.ConfigProto is deprecated. Please use tf.compat.v1.ConfigProto instead.\n",
            "\n",
            "25/25 [==============================] - 82s 3s/step - loss: 2.5152 - acc: 0.2245 - val_loss: 3.2390 - val_acc: 0.1406\n",
            "Epoch 2/50\n",
            "25/25 [==============================] - 21s 823ms/step - loss: 1.7607 - acc: 0.3537 - val_loss: 2.1377 - val_acc: 0.2651\n",
            "Epoch 3/50\n",
            "25/25 [==============================] - 25s 997ms/step - loss: 1.7049 - acc: 0.3944 - val_loss: 13.6726 - val_acc: 0.0924\n",
            "Epoch 4/50\n",
            "25/25 [==============================] - 25s 1s/step - loss: 1.5850 - acc: 0.4264 - val_loss: 4.0149 - val_acc: 0.2583\n",
            "Epoch 5/50\n",
            "25/25 [==============================] - 24s 976ms/step - loss: 1.4818 - acc: 0.4608 - val_loss: 1.6892 - val_acc: 0.4063\n",
            "Epoch 6/50\n",
            "25/25 [==============================] - 25s 992ms/step - loss: 1.4333 - acc: 0.4842 - val_loss: 1.6360 - val_acc: 0.4264\n",
            "Epoch 7/50\n",
            "25/25 [==============================] - 25s 999ms/step - loss: 1.3624 - acc: 0.5084 - val_loss: 1.5904 - val_acc: 0.4527\n",
            "Epoch 8/50\n",
            "25/25 [==============================] - 26s 1s/step - loss: 1.3092 - acc: 0.5304 - val_loss: 1.9813 - val_acc: 0.3607\n",
            "Epoch 9/50\n",
            "25/25 [==============================] - 26s 1s/step - loss: 1.2701 - acc: 0.5478 - val_loss: 1.6163 - val_acc: 0.4368\n",
            "Epoch 10/50\n",
            "25/25 [==============================] - 25s 1s/step - loss: 1.2480 - acc: 0.5557 - val_loss: 2.0217 - val_acc: 0.3152\n",
            "Epoch 11/50\n",
            "25/25 [==============================] - 25s 1s/step - loss: 1.2380 - acc: 0.5580 - val_loss: 6.4824 - val_acc: 0.2383\n",
            "Epoch 12/50\n",
            "25/25 [==============================] - 25s 1s/step - loss: 1.2004 - acc: 0.5716 - val_loss: 1.3012 - val_acc: 0.5397\n",
            "Epoch 13/50\n",
            "25/25 [==============================] - 25s 994ms/step - loss: 1.1651 - acc: 0.5857 - val_loss: 1.9653 - val_acc: 0.4393\n",
            "Epoch 14/50\n",
            "25/25 [==============================] - 25s 994ms/step - loss: 1.1555 - acc: 0.5895 - val_loss: 14.5046 - val_acc: 0.1000\n",
            "Epoch 15/50\n",
            "25/25 [==============================] - 25s 988ms/step - loss: 1.1295 - acc: 0.6017 - val_loss: 12.0721 - val_acc: 0.1062\n",
            "Epoch 16/50\n",
            "25/25 [==============================] - 25s 982ms/step - loss: 1.0846 - acc: 0.6145 - val_loss: 1.4809 - val_acc: 0.5187\n",
            "Epoch 17/50\n",
            "25/25 [==============================] - 25s 989ms/step - loss: 1.0538 - acc: 0.6262 - val_loss: 1.9058 - val_acc: 0.4064\n",
            "Epoch 18/50\n",
            "25/25 [==============================] - 25s 992ms/step - loss: 1.0566 - acc: 0.6233 - val_loss: 1.4597 - val_acc: 0.5468\n",
            "Epoch 19/50\n",
            "25/25 [==============================] - 24s 966ms/step - loss: 1.0485 - acc: 0.6285 - val_loss: 5.5161 - val_acc: 0.3071\n",
            "Epoch 20/50\n",
            "25/25 [==============================] - 24s 975ms/step - loss: 1.0532 - acc: 0.6269 - val_loss: 1.7572 - val_acc: 0.4646\n",
            "Epoch 21/50\n",
            "25/25 [==============================] - 25s 986ms/step - loss: 1.0289 - acc: 0.6351 - val_loss: 2.1132 - val_acc: 0.3516\n",
            "Epoch 22/50\n",
            "25/25 [==============================] - 24s 967ms/step - loss: 1.0328 - acc: 0.6334 - val_loss: 2.9228 - val_acc: 0.3740\n",
            "Epoch 23/50\n",
            "25/25 [==============================] - 24s 970ms/step - loss: 0.9587 - acc: 0.6595 - val_loss: 1.7267 - val_acc: 0.4741\n",
            "Epoch 24/50\n",
            "25/25 [==============================] - 24s 969ms/step - loss: 0.9430 - acc: 0.6630 - val_loss: 1.3450 - val_acc: 0.5507\n",
            "Epoch 25/50\n",
            "25/25 [==============================] - 24s 964ms/step - loss: 0.9290 - acc: 0.6726 - val_loss: 7.3152 - val_acc: 0.2155\n",
            "Epoch 26/50\n",
            "25/25 [==============================] - 24s 969ms/step - loss: 0.9148 - acc: 0.6763 - val_loss: 1.1954 - val_acc: 0.5929\n",
            "Epoch 27/50\n",
            "25/25 [==============================] - 27s 1s/step - loss: 0.8875 - acc: 0.6849 - val_loss: 1.4865 - val_acc: 0.5280\n",
            "Epoch 28/50\n",
            "25/25 [==============================] - 23s 909ms/step - loss: 0.9176 - acc: 0.6719 - val_loss: 1.7294 - val_acc: 0.4696\n",
            "Epoch 29/50\n",
            "25/25 [==============================] - 24s 966ms/step - loss: 0.8731 - acc: 0.6887 - val_loss: 1.1610 - val_acc: 0.6022\n",
            "Epoch 30/50\n",
            "25/25 [==============================] - 24s 963ms/step - loss: 0.8309 - acc: 0.7021 - val_loss: 1.0669 - val_acc: 0.6334\n",
            "Epoch 31/50\n",
            "25/25 [==============================] - 24s 962ms/step - loss: 0.8455 - acc: 0.6975 - val_loss: 2.5341 - val_acc: 0.3118\n",
            "Epoch 32/50\n",
            "25/25 [==============================] - 24s 953ms/step - loss: 0.9551 - acc: 0.6702 - val_loss: 3.4621 - val_acc: 0.3099\n",
            "Epoch 33/50\n",
            "25/25 [==============================] - 24s 965ms/step - loss: 0.9215 - acc: 0.6775 - val_loss: 2.8447 - val_acc: 0.3848\n",
            "Epoch 34/50\n",
            "25/25 [==============================] - 24s 956ms/step - loss: 0.8629 - acc: 0.6973 - val_loss: 1.4200 - val_acc: 0.5440\n",
            "Epoch 35/50\n",
            "25/25 [==============================] - 24s 966ms/step - loss: 0.8091 - acc: 0.7143 - val_loss: 1.1069 - val_acc: 0.6231\n",
            "Epoch 36/50\n",
            "25/25 [==============================] - 26s 1s/step - loss: 0.7806 - acc: 0.7238 - val_loss: 1.0572 - val_acc: 0.6444\n",
            "Epoch 37/50\n",
            "25/25 [==============================] - 25s 1s/step - loss: 0.7689 - acc: 0.7297 - val_loss: 1.0010 - val_acc: 0.6593\n",
            "Epoch 38/50\n",
            "25/25 [==============================] - 25s 990ms/step - loss: 0.7548 - acc: 0.7332 - val_loss: 0.9427 - val_acc: 0.6699\n",
            "Epoch 39/50\n",
            "25/25 [==============================] - 25s 984ms/step - loss: 0.7404 - acc: 0.7382 - val_loss: 0.9969 - val_acc: 0.6536\n",
            "Epoch 40/50\n",
            "25/25 [==============================] - 25s 981ms/step - loss: 0.7259 - acc: 0.7437 - val_loss: 1.0750 - val_acc: 0.6525\n",
            "Epoch 41/50\n",
            "25/25 [==============================] - 25s 984ms/step - loss: 0.7153 - acc: 0.7481 - val_loss: 1.0768 - val_acc: 0.6463\n",
            "Epoch 42/50\n",
            "25/25 [==============================] - 25s 984ms/step - loss: 0.7479 - acc: 0.7377 - val_loss: 6.3463 - val_acc: 0.2139\n",
            "Epoch 43/50\n",
            "25/25 [==============================] - 25s 984ms/step - loss: 0.8395 - acc: 0.7034 - val_loss: 1.9075 - val_acc: 0.5445\n",
            "Epoch 44/50\n",
            "25/25 [==============================] - 24s 969ms/step - loss: 0.7502 - acc: 0.7344 - val_loss: 1.1719 - val_acc: 0.6295\n",
            "Epoch 45/50\n",
            "25/25 [==============================] - 25s 986ms/step - loss: 0.7031 - acc: 0.7491 - val_loss: 1.0146 - val_acc: 0.6681\n",
            "Epoch 46/50\n",
            "25/25 [==============================] - 24s 972ms/step - loss: 0.6888 - acc: 0.7553 - val_loss: 0.9670 - val_acc: 0.6727\n",
            "Epoch 47/50\n",
            "25/25 [==============================] - 25s 997ms/step - loss: 0.6728 - acc: 0.7618 - val_loss: 0.8682 - val_acc: 0.7017\n",
            "Epoch 48/50\n",
            "25/25 [==============================] - 25s 993ms/step - loss: 0.6708 - acc: 0.7627 - val_loss: 0.8660 - val_acc: 0.7073\n",
            "Epoch 49/50\n",
            "25/25 [==============================] - 24s 976ms/step - loss: 0.6489 - acc: 0.7688 - val_loss: 0.9632 - val_acc: 0.6767\n",
            "Epoch 50/50\n",
            "25/25 [==============================] - 25s 984ms/step - loss: 0.6384 - acc: 0.7737 - val_loss: 0.8673 - val_acc: 0.7046\n",
            "Training time is 1292.207596063614 s\n",
            "Saved trained model at /model/resnet/resnet \n"
          ],
          "name": "stdout"
        }
      ]
    },
    {
      "cell_type": "markdown",
      "metadata": {
        "colab_type": "text",
        "id": "CuZ9pWM3KmsW"
      },
      "source": [
        "##Evaluate the model\n",
        "\n",
        "Simply run the following block of code to plot accuracies on training and validation set during different training epochs and eventually get the **accuracy** of the trained model on the **testing set** of CIFAR10 dataset"
      ]
    },
    {
      "cell_type": "code",
      "metadata": {
        "colab_type": "code",
        "id": "LgWEKQfRdIBM",
        "colab": {
          "base_uri": "https://localhost:8080/",
          "height": 624
        },
        "outputId": "8267eead-e330-49bc-e1d1-8a238ea977e0"
      },
      "source": [
        "plot_learningCurve(history,epochs)\n",
        "\n",
        "# Evaluate trained model.\n",
        "scores = model.evaluate(x_test, y_test, verbose=1)\n",
        "print('Test loss:', scores[0])\n",
        "print('Test accuracy:', scores[1])\n"
      ],
      "execution_count": 49,
      "outputs": [
        {
          "output_type": "display_data",
          "data": {
            "image/png": "[encoded data removed]",
            "text/plain": [
              "<Figure size 432x288 with 1 Axes>"
            ]
          },
          "metadata": {
            "tags": []
          }
        },
        {
          "output_type": "display_data",
          "data": {
            "image/png": "[encoded data removed]",
            "text/plain": [
              "<Figure size 432x288 with 1 Axes>"
            ]
          },
          "metadata": {
            "tags": []
          }
        },
        {
          "output_type": "stream",
          "text": [
            "10000/10000 [==============================] - 5s 485us/step\n",
            "Test loss: 0.8672622466087341\n",
            "Test accuracy: 0.7046\n"
          ],
          "name": "stdout"
        }
      ]
    }
  ]
}